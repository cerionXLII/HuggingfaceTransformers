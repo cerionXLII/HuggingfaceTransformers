{
 "cells": [
  {
   "cell_type": "markdown",
   "metadata": {},
   "source": [
    "# HuggingFace Transformers\n",
    "This notebook will use the Hugging Face API to interact with different Transformer achitectures.\n",
    "\n"
   ]
  },
  {
   "cell_type": "code",
   "execution_count": 4,
   "metadata": {},
   "outputs": [],
   "source": [
    "from transformers import pipeline"
   ]
  },
  {
   "cell_type": "markdown",
   "metadata": {},
   "source": [
    "# Sentiment analysis"
   ]
  },
  {
   "cell_type": "code",
   "execution_count": 5,
   "metadata": {},
   "outputs": [
    {
     "name": "stderr",
     "output_type": "stream",
     "text": [
      "No model was supplied, defaulted to distilbert-base-uncased-finetuned-sst-2-english and revision af0f99b (https://huggingface.co/distilbert-base-uncased-finetuned-sst-2-english).\n",
      "Using a pipeline without specifying a model name and revision in production is not recommended.\n",
      "config.json: 100%|██████████| 629/629 [00:00<00:00, 315kB/s]\n",
      "model.safetensors: 100%|██████████| 268M/268M [00:02<00:00, 116MB/s] \n",
      "tokenizer_config.json: 100%|██████████| 48.0/48.0 [00:00<00:00, 24.0kB/s]\n",
      "vocab.txt: 100%|██████████| 232k/232k [00:00<00:00, 1.27MB/s]\n"
     ]
    }
   ],
   "source": [
    "#Create instance of the sentiment analysis pipeline\n",
    "classifier = pipeline(\"sentiment-analysis\")"
   ]
  },
  {
   "cell_type": "code",
   "execution_count": 7,
   "metadata": {},
   "outputs": [
    {
     "data": {
      "text/plain": [
       "[{'label': 'POSITIVE', 'score': 0.9998427629470825},\n",
       " {'label': 'NEGATIVE', 'score': 0.9979380965232849}]"
      ]
     },
     "execution_count": 7,
     "metadata": {},
     "output_type": "execute_result"
    }
   ],
   "source": [
    "input = [\"You are such a nice person\", \"You are so lazy, you should really do something good for the world instead\"]\n",
    "classifier(input)"
   ]
  },
  {
   "cell_type": "markdown",
   "metadata": {},
   "source": [
    "# Text Classification"
   ]
  },
  {
   "cell_type": "code",
   "execution_count": 23,
   "metadata": {},
   "outputs": [],
   "source": [
    "#Create an instance of the classifier pipeline\n",
    "classifier = pipeline(\"zero-shot-classification\", model=\"facebook/bart-large-mnli\")"
   ]
  },
  {
   "cell_type": "code",
   "execution_count": 27,
   "metadata": {},
   "outputs": [
    {
     "data": {
      "text/plain": [
       "{'sequence': 'You should do one more repetition, you can do it!',\n",
       " 'labels': ['training', 'education', 'cooking', 'politics'],\n",
       " 'scores': [0.8017725348472595,\n",
       "  0.16816730797290802,\n",
       "  0.02121736854314804,\n",
       "  0.008842849172651768]}"
      ]
     },
     "execution_count": 27,
     "metadata": {},
     "output_type": "execute_result"
    }
   ],
   "source": [
    "input = \"You should do one more repetition, you can do it!\"\n",
    "candidate_labels = [\"politics\", \"training\", \"education\", \"cooking\"]\n",
    "\n",
    "classifier(input, candidate_labels=candidate_labels,)\n"
   ]
  },
  {
   "cell_type": "code",
   "execution_count": 22,
   "metadata": {},
   "outputs": [
    {
     "data": {
      "text/plain": [
       "{'sequence': 'I have a problem with my iphone that needs to be resolved asap!!',\n",
       " 'labels': ['urgent', 'phone', 'computer', 'not urgent', 'tablet'],\n",
       " 'scores': [0.5036354064941406,\n",
       "  0.4787999987602234,\n",
       "  0.012600099667906761,\n",
       "  0.0026557904202491045,\n",
       "  0.0023087533190846443]}"
      ]
     },
     "execution_count": 22,
     "metadata": {},
     "output_type": "execute_result"
    }
   ],
   "source": [
    "\n",
    "oracle = pipeline(model=\"facebook/bart-large-mnli\")\n",
    "\n",
    "oracle(\n",
    "    \"I have a problem with my iphone that needs to be resolved asap!!\",\n",
    "    candidate_labels=[\"urgent\", \"not urgent\", \"phone\", \"tablet\", \"computer\"],\n",
    ")"
   ]
  },
  {
   "cell_type": "markdown",
   "metadata": {},
   "source": [
    "# Text generation"
   ]
  },
  {
   "cell_type": "code",
   "execution_count": 13,
   "metadata": {},
   "outputs": [],
   "source": [
    "generator = pipeline(\"text-generation\", model='gpt2')"
   ]
  },
  {
   "cell_type": "code",
   "execution_count": 15,
   "metadata": {},
   "outputs": [
    {
     "name": "stderr",
     "output_type": "stream",
     "text": [
      "Setting `pad_token_id` to `eos_token_id`:50256 for open-end generation.\n"
     ]
    },
    {
     "data": {
      "text/plain": [
       "[{'generated_text': \"Hello, I would like to know the meaning of life. The meaning of life is love, love. Even if it be love for all time, love for an entire lifespan, and love for many generations. That is love. You are always at the heart of love, and the power of your life will never leave you, and every moment in this life is an expression of your love for the world. Love is an unconditional bond to love, for a true love. When you are at peace with the world, love will last. No emotions can escape you. It is a great feeling for your life. The world is a beautiful place, warm and inviting, with every detail of life arranged for your satisfaction, and you will never have to put on a makeup for it. Love is in everything. You will always be there for your little ones, and love is always present. A life of love is one where you will find yourself. There will be nights when you have no other home to take you home from your job or school, but are already looking forward to learning other people's new skills and learning new cultures, learning new languages, and learning new languages from their parents! The world is very inviting to you. And with this life, love is in your heart. The World is full of gifts and happiness. With love and all the love and all the freedom you can give and all and everything you do or never do, the world is filled with things that will get you\"}]"
      ]
     },
     "execution_count": 15,
     "metadata": {},
     "output_type": "execute_result"
    }
   ],
   "source": [
    "prompt = \"Hello, I would like to know the meaning of life. The meaning of life is\"\n",
    "generator(prompt, max_length=300, num_return_sequences=1)\n"
   ]
  }
 ],
 "metadata": {
  "kernelspec": {
   "display_name": "tf38",
   "language": "python",
   "name": "python3"
  },
  "language_info": {
   "codemirror_mode": {
    "name": "ipython",
    "version": 3
   },
   "file_extension": ".py",
   "mimetype": "text/x-python",
   "name": "python",
   "nbconvert_exporter": "python",
   "pygments_lexer": "ipython3",
   "version": "3.8.5"
  },
  "orig_nbformat": 4
 },
 "nbformat": 4,
 "nbformat_minor": 2
}
